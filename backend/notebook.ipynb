{
 "cells": [
  {
   "cell_type": "code",
   "execution_count": 1,
   "id": "35db1131",
   "metadata": {},
   "outputs": [],
   "source": [
    "from collections import Counter\n",
    "\n",
    "def count_words(text: str):\n",
    "    chars = [char.lower() for char in text if char != ' ']\n",
    "    count = Counter(chars)\n",
    "    return count\n"
   ]
  },
  {
   "cell_type": "code",
   "execution_count": 2,
   "id": "6f3c1ba6",
   "metadata": {},
   "outputs": [
    {
     "data": {
      "text/plain": [
       "Counter({'b': 2,\n",
       "         'a': 3,\n",
       "         'n': 1,\n",
       "         'c': 1,\n",
       "         'o': 2,\n",
       "         'd': 1,\n",
       "         'r': 1,\n",
       "         's': 2,\n",
       "         'i': 1,\n",
       "         'l': 1})"
      ]
     },
     "execution_count": 2,
     "metadata": {},
     "output_type": "execute_result"
    }
   ],
   "source": [
    "query = \"BANCO DO BRASIL SA\"\n",
    "\n",
    "count_words(query)"
   ]
  },
  {
   "cell_type": "code",
   "execution_count": 15,
   "id": "af96dcc9",
   "metadata": {},
   "outputs": [
    {
     "name": "stdout",
     "output_type": "stream",
     "text": [
      "                            0  score\n",
      "0          BANCO DO BRASIL SA    1.0\n",
      "22989    BANCO DO BRASIL S A     1.0\n",
      "15899   BANCO DO BRASIL S  A     1.0\n",
      "5957      BANCO DO BRASIL S A    1.0\n",
      "87314     BANCO DO BRASIL SA     1.0\n",
      "...                       ...    ...\n",
      "56171                            0.0\n",
      "72852                       1    0.0\n",
      "9898                    JHGJH    0.0\n",
      "32776                     000    0.0\n",
      "111406                      E    0.0\n",
      "\n",
      "[127243 rows x 2 columns]\n"
     ]
    }
   ],
   "source": [
    "import pandas as pd\n",
    "\n",
    "def calculate_score(words_a, words_b):\n",
    "    # words_a and words_b are Counters\n",
    "    all_words = set(words_a) | set(words_b)\n",
    "    min_sum = sum(min(words_a.get(w,0), words_b.get(w,0)) for w in all_words)\n",
    "    max_sum = sum(max(words_a.get(w,0), words_b.get(w,0)) for w in all_words)\n",
    "    return min_sum / max_sum if max_sum > 0 else 0\n",
    "    \n",
    "\n",
    "# Read JSON file\n",
    "json_file = 'data/credores.json'\n",
    "credores = pd.read_json(json_file)\n",
    "\n",
    "# Query\n",
    "query = \"BANCO DO BRASIL SA\"\n",
    "word_count_query = count_words(query)\n",
    "\n",
    "scores = []\n",
    "for credor in credores.iloc[:, 0]:  # iterate over first column values\n",
    "    words_count = count_words(credor)\n",
    "    score = calculate_score(words_count, word_count_query)\n",
    "    scores.append(score)\n",
    "\n",
    "# Attach scores to the DataFrame\n",
    "credores['score'] = scores\n",
    "\n",
    "print(credores.sort_values('score', ascending=False))"
   ]
  }
 ],
 "metadata": {
  "kernelspec": {
   "display_name": "base",
   "language": "python",
   "name": "python3"
  },
  "language_info": {
   "codemirror_mode": {
    "name": "ipython",
    "version": 3
   },
   "file_extension": ".py",
   "mimetype": "text/x-python",
   "name": "python",
   "nbconvert_exporter": "python",
   "pygments_lexer": "ipython3",
   "version": "3.9.12"
  }
 },
 "nbformat": 4,
 "nbformat_minor": 5
}
