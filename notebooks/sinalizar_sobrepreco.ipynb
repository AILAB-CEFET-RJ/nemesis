{
 "cells": [
  {
   "cell_type": "code",
   "execution_count": 23,
   "id": "ef00f229",
   "metadata": {},
   "outputs": [
    {
     "data": {
      "text/plain": [
       "0                                     AQUISICAO DOS MEDICAMENTOS  1 000 COMP  DUTASTERIDA 0 5MG E 3 000 COMP  PIRIDOSTIGMINA 60MG PARA ATENDER A DEMANDA DE PACIENTES QUE FAZEM USO DE MEDICAMENTOS  CONFORME MM NO 818 2018 SSA SUGER   PROCESSO NO 2018018742\n",
       "1                                                                                             AQUISICAO DE MEDICAMENTOS 5 000 AMPOLAS DO ITEM 271 E 80 FRASCOS DO ITEM 384  DO PREGAO PRESENCIAL NO 026 2017 PROC  2017004739  MM DESPESA  318 2018 SSA SUGER  \n",
       "2                      AQUISICAO DOS MEDICAMENTOS GLICLAZIDA 30 MG  180 COMPRIMIDOS  E BROMETO DE TIOTROPIO 2 5 MCG  SOL  INALATORIA FRASCO COM 60 DOSES  06 FRASCOS   PARA A PACIENTE MARIA DAS DORES DA SILVA CANDIDO  PROCESSO NO 0000513 71 2018 8 19 0053 \n",
       "3                                                                                              AQUISICAO DE MEDICAMENTOSPARA ATENDER A DEMANDA DAFMS  CONF SAC 027 18 SAF 070 18   SRP 001 2017 2017 099 000027 4 RP ITEM 238 CIPROFLOXACINO  CLORIDRATO 500 MG\n",
       "4                                                                        AQUISICAO DO MEDICAMENTO DIAMICRIN MR 60MG  GLICAZIDA    R  58 00 X 3 CXS C  60 COMP   R  174 00PARA A PACIENTE ALMELINA JORGE AMARAL  PROCESSO JUDICIAL NO 0000509 34 2018 8 19 0053 \n",
       "5                                                                                                        AQUISICAO DO MEDICAMENTO APIXABANA 5MG  R  233 79 X 06 CXS   R 1 402 74   PARA O PACIENTE HERMES BARRETO  ORDEM JUDICIAL NO 0004414 18 2016 8 19 0053 \n",
       "6                                                                                                                         AQUISICAO DE MEDICAMENTOS 450 FRASCOS DO ITEM 761  DO PREGAO PRESENCIAL NO 026 2017 PROC  2017004739  MM DESPESA  316 2018 SSA SUGER \n",
       "7                                                                    AQUISICAO DE MEDICAMENTOSPARA ATENDER A DEMANDA DAFMS  CONF SAC 027 18 SAF 067 18   SRP 001 2017 PROC 2017 099 000072 4 PR2017 099 000027 4 RP ITEM 238 CIPROFLOXACINO  CLORIDRATO 500 MG \n",
       "8                                                                                                   AQUISICAO DE MEDICAMENTOSPARA ATENDER A DEMANDA DAFMS  CONF SAC 27 18 E SAF015 18 SRP 001 2017 2017099000027 4 RP ITEM 632  MIDAZOLAM 5 MG ML AMPOLA 10 ML \n",
       "9         AQUISICAO DOS MEDICAMENTOS  PERICIAZINA 1  FRASCO 20ML  18 FRASCOS    R  188 82 E VALPROATO DE SODIO  DEPAKENE  250MG ML FRASCO 100ML  18 FRASCOS    R  326 52  PARA O PACIENTE MIGUEL HENRIQUE QUEIROZ  ORDEM JUDICIAL NO 0000599 76 2017 8 19 0053 \n",
       "10                                                                                        AQUISICAO DO MEDICAMENTO TRAZODONA 50MG   18 CXS C 60 X R  34 60   R  622 80  PARA O PACIENTE LUCAS TAVARES P  R  GOMES  ORDEM JUDICIAL NO 0004804 85 2016 8 19 0053 \n",
       "11                                                                    AQUISICAO DE MEDICAMENTOSPARA ATENDER A DEMANDA DAFMS  CONF SAC 027 18 SAF 072 18   SRP 001 2017 2017 09900027 4 RP ITEM 632 MIDAZOLAM 5 MG  ML   AMPOLA 10 ML   19526 X 8 45 164 994 70 \n",
       "12    AQUISICAO DOS MEDICAMENTOS  CITONEURIN 5000UI INJETAVEL   03 AMPOLAS  R 11 45   E VIDAGLIPTINA 50 MG   360 CPR      R  186 25 X 07 CXS C  56 CPR CADA   R 1 303 75   PARA A PACIENTE ANA CLAUDIA RANGEL DE SOUZA  ORDEM JUDICIAL NO0006309 14 2016 8 19 0\n",
       "13    AQUISICAO DE MEDICAMENTOS  TAIS COMO  OMEPRAZOL  90 CPR X R 1 76   R  158 40   TRIMETAZIDINA MR 35 MG  180 CPR X 2 61   R  469 80  E NEBIVOLOL 5 MG  90 CPR X R  0 92   R  82 80   PARA O PACIENTE JOSE HAMILTON DA SILVA  ORDEM JUDICIAL NO 0000494 65 2\n",
       "14                                                                   AQUISICAO DO MEDICAMENTO AMANTADINA  MANTIDAN  100MG CPR   R  15 40 X 15   TOTAL R  231 00  PARA A PACIENTE GISELE COSTA TAVARES DA SILVA  PROCESSO JUDICIAL NO 0000288 51 2018 8 19 0053 \n",
       "15                                                                                           AQUISICAO DO MEDICAMENTO OLMESARTANA 40MG   180 CPR    R  208 50  PARA A PACIENTE DOMINGAS LUCINEZ G  M  DA SILVA  PROCESSO JUDICIAL NO 0002507 37 2018 8 19 0053 \n",
       "16                             MM NO 239 2018 SSA SUGER   DESPESA REFERENTE A AQUISICAO DE MEDICAMNETO 180 COMP  DEBICALUTAMIDA 50 MG PARA CUMPRIMENTO DE MANDADO JUDICIAL 0019412 10 2017 8 19 0003 DO PACIENTE FERNANDO FRANCISCO LARA  PROCESSO 22017026106 \n",
       "17                                                                        AQUISICAO DO MEDICAMENTO ETOSSUXIMIDA 50MG ML XAROPE   FRASCO 120ML  R  43 30 X 30 FRASCOS   PARA O PACIENTE KAIC ANDRE MARTINS PEREIRA  ORDEM JUDICIAL NO 0000819 40 2018 8 19 0053 \n",
       "18                                                                        AQUISICAO DO MEDICAMENTO ETOSSUXIMIDA 50MG ML XAROPE   FRASCO 120ML  R  43 30 X 30 FRASCOS   PARA O PACIENTE KAIC ANDRE MARTINS PEREIRA  ORDEM JUDICIAL NO 0000819 40 2018 8 19 0053 \n",
       "19                           AQUISICAO DO MEDICAMENTO CETOCONAZOL 20MG G   DIPROPIONATO DE BETAMETASONA 0 64MG G   SULFATO DE NEOMICINA 2 5MG G   06  SEIS  BISNAGAS 30G  PARA A PACIENTE IRINETE FRANCA TEIXEIRA  ORDEM JUDICIAL NO 0005502 91 2016 8 19 0053 \n",
       "20                                               AQUISICAO DO MEDICAMENTO CICLOSPORINA 0 05  FLACONETE 0 4ML   180 FLACONETES   6 CXS C  30 X 166 80   R  1 000 80  PARA A PACIENTE MARIA DA CONCEICAO MACHADO  PROCESSO JUDICIAL NO 0002043 18 2015 8 19 0053 \n",
       "21                                                          AQUISICAO DE MEDICAMENTOSPARA ATENDER A DEMANDA DAFMS  CONFORME SAC 027 18 SAF 066 18   SRP 001 2017PROC 2017 099 000072 4 PR2017 099 000027 4 RP ITEM 35 AGUA OXIGENADA 10VOLUMES  FRASCO 1000 ML \n",
       "22      PARA O CUMPRIMENTO DE MANDADO JUDICIAL NO 0004462 30 2016 8 19 0003 DO PACIENTE EDSON LUIZ SICCIROLI   PROC  2018008901  AQUISICAO DE MEDICAMENTO  06 FRASCOS DE BROMETO DE IPATROPIO 0 02MG   BROMIDRATO DE FENOTEROL 0 5MG DOSE   SOLUCAO AEROSOL  MM\n",
       "23                                                             AQUISICAO DE MEDICAMENTOSPARA ATENDER A DEMANDA DAFMS CONFORME SAC 100 18 SAF 0101 18 SRP 001 2017 ITEM 831 SORO GLICOSADO 5   FRASCO OU BOLSA 100 ML   SISTEMA FECHADO   11572 X  65 42 237 80 \n",
       "24                               AQUISICAO DOS MEDICAMENTOS  CITRATO DE POTASSIO 10MGEQ   360 CPR   R  376 56 E GLICOSAMINA 500MG   CONDROITINA 400MG   180 CPR   R  328 22  PARA O PACIENTE ROBERTO ORMY MANHAES  ORDEM JUDICIAL NO 0002335 95 2018 8 19 0053 \n",
       "25                                                                                               AQUISICAO DE MEDICAMENTOS   ITENS 19  59  167  180  313  487  650 E 753 DO PREGAO PRESENCIAL NO 026 2017  CONFORME MM NO 190 2018 SSA SUGER   PROC  2017004739\n",
       "26      MM NO 119 2018 SSA SUGER   AQUISICAO DOS SEGUINTES MEDICAMENTOS  12 FRASCOS DE TARTARATO DE BRIMONIDINA 1MG ML E 12 FRASCOS DE DEXTROTARTARATO DE BRIMONIDINA 2MG ML  PARA O CUMPRIMENTO DE MANDADO JUDICIAL ORIUNDA DO PROCESSO NO 0006271 21 2017 8 1\n",
       "27                                                                                                            AQUISICAO DE MEDICAMENTOS   ITENS 205  206  217  331 E 782 DO PREGAO PRESENCIAL NO 026 2017  CONFORME MM NO 184 2018 SSA SUGER   PROC  2017004739\n",
       "28                                                                                                            AQUISICAO DE MEDICAMENTOS   ITENS 168  264  652  710 E 713 DO PREGAO PRESENCIAL NO 026 2017  CONFORME MM NO 189 2018 SSA SUGER   PROC  2017004739\n",
       "29                                                                                                AQUISICAO DE MEDICAMENTOSPARA ATENDER A DEMANDA DAFMS  CONF SAC 27 18 SAF N13 18 SRP 001 2017 2017099000027 4 RP ITEM 09 ACETILCISTEINA 100 M ML AMPOLA 3 ML \n",
       "Name: historico, dtype: object"
      ]
     },
     "execution_count": 23,
     "metadata": {},
     "output_type": "execute_result"
    }
   ],
   "source": [
    "import pandas as pd\n",
    "\n",
    "# Mostra até 500 caracteres por célula\n",
    "pd.set_option(\"display.max_colwidth\", 500)\n",
    "\n",
    "df = pd.read_csv('../backend/auditoria/resultados/paracetamol2018_vizinhos.csv')\n",
    "df.historico.head(30)"
   ]
  },
  {
   "cell_type": "code",
   "execution_count": 24,
   "id": "f88f28ea",
   "metadata": {},
   "outputs": [
    {
     "data": {
      "text/html": [
       "<div>\n",
       "<style scoped>\n",
       "    .dataframe tbody tr th:only-of-type {\n",
       "        vertical-align: middle;\n",
       "    }\n",
       "\n",
       "    .dataframe tbody tr th {\n",
       "        vertical-align: top;\n",
       "    }\n",
       "\n",
       "    .dataframe thead th {\n",
       "        text-align: right;\n",
       "    }\n",
       "</style>\n",
       "<table border=\"1\" class=\"dataframe\">\n",
       "  <thead>\n",
       "    <tr style=\"text-align: right;\">\n",
       "      <th></th>\n",
       "      <th>dt_empenho</th>\n",
       "      <th>idempenho_pivot</th>\n",
       "      <th>ente_pivot</th>\n",
       "      <th>ano</th>\n",
       "      <th>elem_pivot</th>\n",
       "      <th>valor_pivot</th>\n",
       "      <th>historico_pivot</th>\n",
       "      <th>n_comparacoes</th>\n",
       "      <th>mediana_estado</th>\n",
       "      <th>q1</th>\n",
       "      <th>q3</th>\n",
       "      <th>limiar_iqr</th>\n",
       "      <th>desvio_percentual</th>\n",
       "      <th>percentil_pivot</th>\n",
       "      <th>sobrepreco_suspeito</th>\n",
       "      <th>filtro_elemento</th>\n",
       "    </tr>\n",
       "  </thead>\n",
       "  <tbody>\n",
       "    <tr>\n",
       "      <th>0</th>\n",
       "      <td>2018-06-28</td>\n",
       "      <td>201800360179100010000001127</td>\n",
       "      <td>QUISSAMA</td>\n",
       "      <td>2018</td>\n",
       "      <td>MATERIAL  BEM OU SERVICO PARA DISTRIBUICAO GRATUITA</td>\n",
       "      <td>11600.0</td>\n",
       "      <td>VALOR REF  AQUISICAO DE MEDICAMENTOS  GLIBENCLAMIDA 5MG  QUANT  40 000 CO  MARCA  BRAINFARMA  PRECO UN R  0 19  PARACETAMOL 500 MG  QUANT  2 0 000 CO  MARCA  PRATI  PRECO UN R  0 20  CONFORME ATA NO 081 2017</td>\n",
       "      <td>46</td>\n",
       "      <td>1464.12</td>\n",
       "      <td>643.295</td>\n",
       "      <td>36390.25</td>\n",
       "      <td>90010.6825</td>\n",
       "      <td>692.284785</td>\n",
       "      <td>65.217391</td>\n",
       "      <td>False</td>\n",
       "      <td>False</td>\n",
       "    </tr>\n",
       "  </tbody>\n",
       "</table>\n",
       "</div>"
      ],
      "text/plain": [
       "   dt_empenho              idempenho_pivot ente_pivot   ano  \\\n",
       "0  2018-06-28  201800360179100010000001127   QUISSAMA  2018   \n",
       "\n",
       "                                            elem_pivot  valor_pivot  \\\n",
       "0  MATERIAL  BEM OU SERVICO PARA DISTRIBUICAO GRATUITA      11600.0   \n",
       "\n",
       "                                                                                                                                                                                                    historico_pivot  \\\n",
       "0  VALOR REF  AQUISICAO DE MEDICAMENTOS  GLIBENCLAMIDA 5MG  QUANT  40 000 CO  MARCA  BRAINFARMA  PRECO UN R  0 19  PARACETAMOL 500 MG  QUANT  2 0 000 CO  MARCA  PRATI  PRECO UN R  0 20  CONFORME ATA NO 081 2017    \n",
       "\n",
       "   n_comparacoes  mediana_estado       q1        q3  limiar_iqr  \\\n",
       "0             46         1464.12  643.295  36390.25  90010.6825   \n",
       "\n",
       "   desvio_percentual  percentil_pivot  sobrepreco_suspeito  filtro_elemento  \n",
       "0         692.284785        65.217391                False            False  "
      ]
     },
     "execution_count": 24,
     "metadata": {},
     "output_type": "execute_result"
    }
   ],
   "source": [
    "import pandas as pd\n",
    "\n",
    "df_pivot = pd.read_csv('../backend/auditoria/resultados/paracetamol2018_resumo.csv')\n",
    "df_pivot.head(30)"
   ]
  },
  {
   "cell_type": "code",
   "execution_count": 21,
   "id": "c00f8a2c",
   "metadata": {},
   "outputs": [
    {
     "data": {
      "text/plain": [
       "'VALOR REF  AQUISICAO DE MEDICAMENTOS  GLIBENCLAMIDA 5MG  QUANT  40 000 CO  MARCA  BRAINFARMA  PRECO UN R  0 19  PARACETAMOL 500 MG  QUANT  2 0 000 CO  MARCA  PRATI  PRECO UN R  0 20  CONFORME ATA NO 081 2017 '"
      ]
     },
     "execution_count": 21,
     "metadata": {},
     "output_type": "execute_result"
    }
   ],
   "source": [
    "df_pivot.historico_pivot.values[0]"
   ]
  },
  {
   "cell_type": "code",
   "execution_count": 16,
   "id": "03c768a2",
   "metadata": {},
   "outputs": [
    {
     "data": {
      "text/plain": [
       "'201800360179100010000001127'"
      ]
     },
     "execution_count": 16,
     "metadata": {},
     "output_type": "execute_result"
    }
   ],
   "source": [
    "df_pivot.idempenho_pivot.values[0]"
   ]
  }
 ],
 "metadata": {
  "kernelspec": {
   "display_name": "nemesis",
   "language": "python",
   "name": "python3"
  },
  "language_info": {
   "codemirror_mode": {
    "name": "ipython",
    "version": 3
   },
   "file_extension": ".py",
   "mimetype": "text/x-python",
   "name": "python",
   "nbconvert_exporter": "python",
   "pygments_lexer": "ipython3",
   "version": "3.12.11"
  }
 },
 "nbformat": 4,
 "nbformat_minor": 5
}
